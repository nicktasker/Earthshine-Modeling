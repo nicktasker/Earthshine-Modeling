{
 "cells": [
  {
   "cell_type": "markdown",
   "metadata": {},
   "source": [
    "# Producing Tables and Plots\n",
    "\n",
    "This notebook is designed to walk through the process of importing HDF\n",
    "files with MODIS cloud profile and land cover data, reducing it to what\n",
    "was visible and lit from the moon on the night of May 18, 2013, and\n",
    "producing plots for publication, and ascii tables and lists of unique \n",
    "combinations for use in modeling the signal of an Earth-like exoplanet.\n",
    "It uses functions from func.py, containing source code and documentation."
   ]
  },
  {
   "cell_type": "markdown",
   "metadata": {},
   "source": [
    "### Imports"
   ]
  },
  {
   "cell_type": "code",
   "execution_count": 1,
   "metadata": {
    "collapsed": true
   },
   "outputs": [],
   "source": [
    "import copy\n",
    "import numpy as np\n",
    "import matplotlib.pyplot as plt\n",
    "import matplotlib.cm as cm\n",
    "\n",
    "from astropy.io import ascii\n",
    "from datetime import datetime\n",
    "from mpl_toolkits.basemap import Basemap, solar\n",
    "from matplotlib.colors import ListedColormap\n",
    "from pyhdf.SD import SD, SDC \n",
    "from scipy import stats\n",
    "\n",
    "from func import *   # local functions"
   ]
  },
  {
   "cell_type": "markdown",
   "metadata": {},
   "source": [
    "### Vatiables and Functions"
   ]
  },
  {
   "cell_type": "code",
   "execution_count": 4,
   "metadata": {
    "collapsed": true
   },
   "outputs": [],
   "source": [
    "# Setting Up Variables\n",
    "\n",
    "dat = datetime(2013,5,18,21,20,0)   # date of observation at time 21:20 UT\n",
    "\n",
    "snowfile = '../MYD10C1_5.18.2013.hdf'    # Daily global snow cover, 0.05 x 0.05 degree average\n",
    "snowsds_name = 'Day_CMG_Snow_Cover'\n",
    "\n",
    "landfile = '../MCD12C1.2013.hdf'        # Yearly global land cover, 0.05 x 0.05 degree average\n",
    "landsds_name = 'Majority_Land_Cover_Type_1'\n",
    "\n",
    "cloudfile = '../MYD08_D3_5.18.13.hdf'   # Daily global cloud profile, \n",
    "\n",
    "cloud_sds = ['Cloud_Optical_Thickness_16_Liquid_Mean',    # Use mean 1.6 micron COT data\n",
    "             'Cloud_Top_Pressure_Mean']                    # Use mean combined wavelength CTP \n",
    "\n",
    "ctp_bins = [0.0000003, 0.025, 0.189, 0.213, 0.238, 0.268, 0.299, 0.332,    # bins for values of \n",
    "             0.372, 0.411, 0.554, 0.591, 0.628, 0.710, 0.902, 1.03]        # cloud top pressure\n",
    "\n",
    "cot_bins = [0,2,4,6,8,10,12,14,16,18,20,25,30,35,40,52,64,76,88,100]   # bins of cloud optical thickness values\n",
    "\n",
    "cot_bins_crude = [0, 2, 5, 10, 15, 20, 25, 30, 35, 40, 52, 64, 76, 88, 100]   # cloud optical thickness bins\n",
    "                                                                              # with fewer values between 0-20"
   ]
  },
  {
   "cell_type": "code",
   "execution_count": null,
   "metadata": {},
   "outputs": [],
   "source": []
  },
  {
   "cell_type": "code",
   "execution_count": 5,
   "metadata": {},
   "outputs": [
    {
     "name": "stderr",
     "output_type": "stream",
     "text": [
      "func.py:91: RuntimeWarning: Mean of empty slice\n",
      "  binned.append(np.nanmean(catch))   # finds mean of all values within a bin\n"
     ]
    }
   ],
   "source": [
    "# Using Local Functions\n",
    "\n",
    "daynight = terminator(dat)    # create array of values for day/night terminator\n",
    "\n",
    "land = landtypes(landfile, snowfile, landsds_name, snowsds_name, daynight)   # create land array\n",
    "\n",
    "cot, ctp = cot_ctp(cloudfile, cloud_sds, ctp_bins, cot_bins, daynight)      # create ctp and cot arrays\n",
    "cot_crude, ctp = cot_ctp(cloudfile, cloud_sds, ctp_bins, cot_bins_crude, daynight)\n",
    "\n",
    "combos = unique_combos(land, cot, ctp)   # find unique combinations of land type, COT, and CTP"
   ]
  },
  {
   "cell_type": "code",
   "execution_count": null,
   "metadata": {
    "collapsed": true
   },
   "outputs": [],
   "source": [
    "# Creating ASCII Tables\n",
    "'''\n",
    "ascii.write(ctp.T, 'ctp_moonview.txt')\n",
    "ascii.write(cot.T, 'cot_moonview.txt')\n",
    "ascii.write(land.T, 'land_moonview.txt')\n",
    "'''"
   ]
  },
  {
   "cell_type": "markdown",
   "metadata": {},
   "source": [
    "### Plots"
   ]
  },
  {
   "cell_type": "code",
   "execution_count": null,
   "metadata": {
    "collapsed": true
   },
   "outputs": [],
   "source": [
    "my_cmap = ListedColormap(['xkcd:black',\n",
    "                       'xkcd:royal blue',\n",
    "                       'xkcd:forest green',\n",
    "                       'xkcd:green',\n",
    "                       'xkcd:beige',\n",
    "                       'xkcd:white'])"
   ]
  },
  {
   "cell_type": "code",
   "execution_count": null,
   "metadata": {},
   "outputs": [],
   "source": [
    "fig = plt.figure(figsize=(15,15))\n",
    "    \n",
    "plt.rc('font', family='serif', weight = 545, size = 15)\n",
    "\n",
    "m = Basemap(projection='ortho', resolution='l', lat_0=0, lon_0 = -39.8333)\n",
    "\n",
    "m.drawcoastlines(linewidth=0.8)\n",
    "m.drawparallels(np.arange(-90., 120., 30.), labels=[1, 0, 0, 0])\n",
    "m.drawmeridians(np.arange(-180., 181., 45.), labels=[0, 0, 0, 1])\n",
    "\n",
    "lat = np.arange(-90,89,2)\n",
    "lon = np.arange(-180,180,2)\n",
    "\n",
    "x, y = m(*np.meshgrid(lon, lat))\n",
    "\n",
    "ax1 = m.pcolor(x, y, land[::-1], cmap=plt.cm.get_cmap(my_cmap,6))\n",
    "\n",
    "plt.clim(0,5)\n",
    "\n",
    "cbar = plt.colorbar(ax1, label='land type', orientation='vertical', ticks=range(6), shrink = 0.6)\n",
    "cbar.outline.set_edgecolor('xkcd:black')\n",
    "cbar.outline.set_linewidth(1)\n",
    "cbar.ax.set_yticklabels(['fill', 'ocean', 'forest', 'grass', 'sand', 'ice'], {'fontsize':15})\n",
    "cbar.outline.set_label({'fontsize':15})\n",
    "\n",
    "ax2 = m.contourf(x, y, ctp[::-1], levels = ctp_bins, alpha = 0.5, cmap='Greys_r')\n",
    "\n",
    "contour_bar = plt.colorbar(ax2, label = 'Cloud Top Pressure (bar)', orientation='vertical', shrink = 0.6)\n",
    "contour_bar.outline.set_edgecolor('xkcd:black')\n",
    "contour_bar.outline.set_linewidth(1)\n",
    "#cax = contour_bar.ax\n",
    "#contour_bar.ax.set_yticklabels(ctpbins, {'fontsize':15})\n",
    "\n",
    "'''\n",
    "cb_ax = contour_bar.ax\n",
    "ax.text(1.3,0.5,r'$\\tau$',rotation=90)\n",
    "'''\n",
    "#plt.title('2x2 Degree Land Cover of Earth as Seen from the Moon w/ Cloud Top Pressure - 5/18/13 21:20 UTC', {'fontsize':15})\n",
    "\n",
    "#plt.savefig('landcover_ctp.pdf')\n",
    "plt.show()"
   ]
  },
  {
   "cell_type": "code",
   "execution_count": null,
   "metadata": {},
   "outputs": [],
   "source": [
    "print cot"
   ]
  },
  {
   "cell_type": "code",
   "execution_count": null,
   "metadata": {
    "collapsed": true
   },
   "outputs": [],
   "source": []
  },
  {
   "cell_type": "code",
   "execution_count": null,
   "metadata": {
    "collapsed": true
   },
   "outputs": [],
   "source": []
  }
 ],
 "metadata": {
  "kernelspec": {
   "display_name": "Python 2",
   "language": "python",
   "name": "python2"
  },
  "language_info": {
   "codemirror_mode": {
    "name": "ipython",
    "version": 2
   },
   "file_extension": ".py",
   "mimetype": "text/x-python",
   "name": "python",
   "nbconvert_exporter": "python",
   "pygments_lexer": "ipython2",
   "version": "2.7.13"
  }
 },
 "nbformat": 4,
 "nbformat_minor": 2
}
